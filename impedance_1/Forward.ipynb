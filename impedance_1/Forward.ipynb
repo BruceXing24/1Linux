{
 "cells": [
  {
   "cell_type": "code",
   "execution_count": 1,
   "id": "4cb0f205",
   "metadata": {},
   "outputs": [
    {
     "name": "stdout",
     "output_type": "stream",
     "text": [
      "Collecting sympy\n",
      "  Downloading sympy-1.11.1-py3-none-any.whl (6.5 MB)\n",
      "     ---------------------------------------- 6.5/6.5 MB 18.8 MB/s eta 0:00:00\n",
      "Collecting mpmath>=0.19\n",
      "  Downloading mpmath-1.2.1-py3-none-any.whl (532 kB)\n",
      "     ------------------------------------- 532.6/532.6 kB 16.8 MB/s eta 0:00:00\n",
      "Installing collected packages: mpmath, sympy\n",
      "Successfully installed mpmath-1.2.1 sympy-1.11.1\n",
      "Note: you may need to restart the kernel to use updated packages.\n"
     ]
    }
   ],
   "source": [
    "pip install sympy"
   ]
  },
  {
   "cell_type": "code",
   "execution_count": 2,
   "id": "208e2a45",
   "metadata": {},
   "outputs": [],
   "source": [
    "import sympy as sym"
   ]
  },
  {
   "cell_type": "code",
   "execution_count": 3,
   "id": "7c9f1f90",
   "metadata": {},
   "outputs": [
    {
     "data": {
      "text/latex": [
       "$\\displaystyle \\left[\\begin{matrix}1 & 0 & 0 & 0\\\\1 & \\delta_{t} & \\delta_{t}^{2} & \\delta_{t}^{3}\\\\0 & 1 & 0 & 0\\\\0 & 1 & 2 \\delta_{t} & 3 \\delta_{t}^{2}\\end{matrix}\\right]$"
      ],
      "text/plain": [
       "Matrix([\n",
       "[1,       0,          0,            0],\n",
       "[1, delta_t, delta_t**2,   delta_t**3],\n",
       "[0,       1,          0,            0],\n",
       "[0,       1,  2*delta_t, 3*delta_t**2]])"
      ]
     },
     "execution_count": 3,
     "metadata": {},
     "output_type": "execute_result"
    }
   ],
   "source": [
    "dt = sym.symbols('delta_t')\n",
    "# 定义矩阵T\n",
    "T = sym.Matrix(\n",
    "    [[1, 0, 0, 0], \n",
    "     [1, dt, dt**2, dt**3], \n",
    "     [0, 1, 0, 0],\n",
    "     [0, 1, 2*dt, 3*dt**2]])\n",
    "T"
   ]
  },
  {
   "cell_type": "code",
   "execution_count": 4,
   "id": "ce5d8b45",
   "metadata": {},
   "outputs": [
    {
     "data": {
      "text/latex": [
       "$\\displaystyle \\left[\\begin{matrix}\\cos{\\left(\\theta_{i} \\right)} & - \\sin{\\left(\\theta_{i} \\right)} & 0 & ai_{1}\\\\\\sin{\\left(\\theta_{i} \\right)} \\cos{\\left(\\alpha_{i-1} \\right)} & \\cos{\\left(\\alpha_{i-1} \\right)} \\cos{\\left(\\theta_{i} \\right)} & - \\sin{\\left(\\alpha_{i-1} \\right)} & - di \\sin{\\left(\\alpha_{i-1} \\right)}\\\\\\sin{\\left(\\alpha_{i-1} \\right)} \\sin{\\left(\\theta_{i} \\right)} & \\sin{\\left(\\alpha_{i-1} \\right)} \\cos{\\left(\\theta_{i} \\right)} & \\cos{\\left(\\alpha_{i-1} \\right)} & di \\cos{\\left(\\alpha_{i-1} \\right)}\\\\0 & 0 & 0 & 1\\end{matrix}\\right]$"
      ],
      "text/plain": [
       "Matrix([\n",
       "[               cos(theta_i),               -sin(theta_i),               0,               ai_1],\n",
       "[sin(theta_i)*cos(alpha_i-1), cos(alpha_i-1)*cos(theta_i), -sin(alpha_i-1), -di*sin(alpha_i-1)],\n",
       "[sin(alpha_i-1)*sin(theta_i), sin(alpha_i-1)*cos(theta_i),  cos(alpha_i-1),  di*cos(alpha_i-1)],\n",
       "[                          0,                           0,               0,                  1]])"
      ]
     },
     "execution_count": 4,
     "metadata": {},
     "output_type": "execute_result"
    }
   ],
   "source": [
    "alphai_1,ai_1,di,theta_i = sym.symbols('alpha_i-1 ai_1 di theta_i ')\n",
    "\n",
    "T = sym.Matrix(\n",
    "    [[sym.cos(theta_i)                  ,-sym.sin(theta_i),                       0,                      ai_1                 ], \n",
    "     [sym.sin(theta_i)*sym.cos(alphai_1),  sym.cos(theta_i)*sym.cos(alphai_1),   -sym.sin(alphai_1) ,     -sym.sin(alphai_1)*di], \n",
    "     [sym.sin(theta_i)*sym.sin(alphai_1),  sym.cos(theta_i)*sym.sin(alphai_1),    sym.cos(alphai_1) ,      sym.cos(alphai_1)*di],\n",
    "     [0,                                   0,                                     0,                        1                 ]]\n",
    ")\n",
    "\n",
    "T"
   ]
  },
  {
   "cell_type": "code",
   "execution_count": 5,
   "id": "9fdfe75b",
   "metadata": {},
   "outputs": [],
   "source": [
    "alphai_1,ai_1,di,theta_i = sym.symbols('alpha_i-1 ai_1 di theta_i ')\n",
    "def DH_transfer(alphai_1,ai_1,di,theta_i):\n",
    "    return sym.Matrix(\n",
    "    [[sym.cos(theta_i)                  ,-sym.sin(theta_i),                       0,                      ai_1                 ], \n",
    "     [sym.sin(theta_i)*sym.cos(alphai_1),  sym.cos(theta_i)*sym.cos(alphai_1),   -sym.sin(alphai_1) ,     -sym.sin(alphai_1)*di], \n",
    "     [sym.sin(theta_i)*sym.sin(alphai_1),  sym.cos(theta_i)*sym.sin(alphai_1),    sym.cos(alphai_1) ,      sym.cos(alphai_1)*di],\n",
    "     [0,                       0,                                     0,                        1                 ]]\n",
    ")"
   ]
  },
  {
   "cell_type": "code",
   "execution_count": 6,
   "id": "0dcd9178",
   "metadata": {},
   "outputs": [
    {
     "data": {
      "text/latex": [
       "$\\displaystyle \\left[\\begin{matrix}1 & 0 & 0 & l_{1}\\\\0 & \\cos{\\left(\\theta_{1} \\right)} & - \\sin{\\left(\\theta_{1} \\right)} & - l_{2} \\sin{\\left(\\theta_{1} \\right)}\\\\0 & \\sin{\\left(\\theta_{1} \\right)} & \\cos{\\left(\\theta_{1} \\right)} & l_{2} \\cos{\\left(\\theta_{1} \\right)}\\\\0 & 0 & 0 & 1\\end{matrix}\\right]$"
      ],
      "text/plain": [
       "Matrix([\n",
       "[1,           0,            0,              l1],\n",
       "[0, cos(theta1), -sin(theta1), -l2*sin(theta1)],\n",
       "[0, sin(theta1),  cos(theta1),  l2*cos(theta1)],\n",
       "[0,           0,            0,               1]])"
      ]
     },
     "execution_count": 6,
     "metadata": {},
     "output_type": "execute_result"
    }
   ],
   "source": [
    "theta1,l1,l2 = sym.symbols('theta1 l1 l2')\n",
    "\n",
    "T01 = DH_transfer(theta1,l1,l2,0)\n",
    "T01"
   ]
  },
  {
   "cell_type": "code",
   "execution_count": 7,
   "id": "33da9978",
   "metadata": {},
   "outputs": [
    {
     "data": {
      "text/latex": [
       "$\\displaystyle \\left[\\begin{matrix}\\cos{\\left(\\theta_{2} \\right)} & - \\sin{\\left(\\theta_{2} \\right)} & 0 & 0\\\\\\sin{\\left(\\theta_{2} \\right)} & \\cos{\\left(\\theta_{2} \\right)} & 0 & 0\\\\0 & 0 & 1 & 0\\\\0 & 0 & 0 & 1\\end{matrix}\\right]$"
      ],
      "text/plain": [
       "Matrix([\n",
       "[cos(theta2), -sin(theta2), 0, 0],\n",
       "[sin(theta2),  cos(theta2), 0, 0],\n",
       "[          0,            0, 1, 0],\n",
       "[          0,            0, 0, 1]])"
      ]
     },
     "execution_count": 7,
     "metadata": {},
     "output_type": "execute_result"
    }
   ],
   "source": [
    "theta2= sym.symbols('theta2')\n",
    "T12 = DH_transfer(0,0,0,theta2)\n",
    "T12"
   ]
  },
  {
   "cell_type": "code",
   "execution_count": 8,
   "id": "6b328482",
   "metadata": {},
   "outputs": [
    {
     "data": {
      "text/latex": [
       "$\\displaystyle \\left[\\begin{matrix}\\cos{\\left(\\theta_{3} \\right)} & - \\sin{\\left(\\theta_{3} \\right)} & 0 & l_{3}\\\\\\sin{\\left(\\theta_{3} \\right)} & \\cos{\\left(\\theta_{3} \\right)} & 0 & 0\\\\0 & 0 & 1 & 0\\\\0 & 0 & 0 & 1\\end{matrix}\\right]$"
      ],
      "text/plain": [
       "Matrix([\n",
       "[cos(theta3), -sin(theta3), 0, l3],\n",
       "[sin(theta3),  cos(theta3), 0,  0],\n",
       "[          0,            0, 1,  0],\n",
       "[          0,            0, 0,  1]])"
      ]
     },
     "execution_count": 8,
     "metadata": {},
     "output_type": "execute_result"
    }
   ],
   "source": [
    "l3,theta3= sym.symbols('l3 theta3')\n",
    "T23 = DH_transfer(0,l3,0,theta3)\n",
    "T23"
   ]
  },
  {
   "cell_type": "code",
   "execution_count": 9,
   "id": "3ab71b00",
   "metadata": {},
   "outputs": [
    {
     "data": {
      "text/latex": [
       "$\\displaystyle \\left[\\begin{matrix}1 & 0 & 0 & l_{4}\\\\0 & 1 & 0 & 0\\\\0 & 0 & 1 & 0\\\\0 & 0 & 0 & 1\\end{matrix}\\right]$"
      ],
      "text/plain": [
       "Matrix([\n",
       "[1, 0, 0, l4],\n",
       "[0, 1, 0,  0],\n",
       "[0, 0, 1,  0],\n",
       "[0, 0, 0,  1]])"
      ]
     },
     "execution_count": 9,
     "metadata": {},
     "output_type": "execute_result"
    }
   ],
   "source": [
    "l4= sym.symbols('l4')\n",
    "T34 = DH_transfer(0,l4,0,0)\n",
    "T34"
   ]
  },
  {
   "cell_type": "code",
   "execution_count": 10,
   "id": "d7476426",
   "metadata": {},
   "outputs": [
    {
     "data": {
      "text/latex": [
       "$\\displaystyle \\left[\\begin{matrix}- \\sin{\\left(\\theta_{2} \\right)} \\sin{\\left(\\theta_{3} \\right)} + \\cos{\\left(\\theta_{2} \\right)} \\cos{\\left(\\theta_{3} \\right)} & - \\sin{\\left(\\theta_{2} \\right)} \\cos{\\left(\\theta_{3} \\right)} - \\sin{\\left(\\theta_{3} \\right)} \\cos{\\left(\\theta_{2} \\right)} & 0 & l_{1} + l_{3} \\cos{\\left(\\theta_{2} \\right)} + l_{4} \\left(- \\sin{\\left(\\theta_{2} \\right)} \\sin{\\left(\\theta_{3} \\right)} + \\cos{\\left(\\theta_{2} \\right)} \\cos{\\left(\\theta_{3} \\right)}\\right)\\\\\\sin{\\left(\\theta_{2} \\right)} \\cos{\\left(\\theta_{1} \\right)} \\cos{\\left(\\theta_{3} \\right)} + \\sin{\\left(\\theta_{3} \\right)} \\cos{\\left(\\theta_{1} \\right)} \\cos{\\left(\\theta_{2} \\right)} & - \\sin{\\left(\\theta_{2} \\right)} \\sin{\\left(\\theta_{3} \\right)} \\cos{\\left(\\theta_{1} \\right)} + \\cos{\\left(\\theta_{1} \\right)} \\cos{\\left(\\theta_{2} \\right)} \\cos{\\left(\\theta_{3} \\right)} & - \\sin{\\left(\\theta_{1} \\right)} & - l_{2} \\sin{\\left(\\theta_{1} \\right)} + l_{3} \\sin{\\left(\\theta_{2} \\right)} \\cos{\\left(\\theta_{1} \\right)} + l_{4} \\left(\\sin{\\left(\\theta_{2} \\right)} \\cos{\\left(\\theta_{1} \\right)} \\cos{\\left(\\theta_{3} \\right)} + \\sin{\\left(\\theta_{3} \\right)} \\cos{\\left(\\theta_{1} \\right)} \\cos{\\left(\\theta_{2} \\right)}\\right)\\\\\\sin{\\left(\\theta_{1} \\right)} \\sin{\\left(\\theta_{2} \\right)} \\cos{\\left(\\theta_{3} \\right)} + \\sin{\\left(\\theta_{1} \\right)} \\sin{\\left(\\theta_{3} \\right)} \\cos{\\left(\\theta_{2} \\right)} & - \\sin{\\left(\\theta_{1} \\right)} \\sin{\\left(\\theta_{2} \\right)} \\sin{\\left(\\theta_{3} \\right)} + \\sin{\\left(\\theta_{1} \\right)} \\cos{\\left(\\theta_{2} \\right)} \\cos{\\left(\\theta_{3} \\right)} & \\cos{\\left(\\theta_{1} \\right)} & l_{2} \\cos{\\left(\\theta_{1} \\right)} + l_{3} \\sin{\\left(\\theta_{1} \\right)} \\sin{\\left(\\theta_{2} \\right)} + l_{4} \\left(\\sin{\\left(\\theta_{1} \\right)} \\sin{\\left(\\theta_{2} \\right)} \\cos{\\left(\\theta_{3} \\right)} + \\sin{\\left(\\theta_{1} \\right)} \\sin{\\left(\\theta_{3} \\right)} \\cos{\\left(\\theta_{2} \\right)}\\right)\\\\0 & 0 & 0 & 1\\end{matrix}\\right]$"
      ],
      "text/plain": [
       "Matrix([\n",
       "[                       -sin(theta2)*sin(theta3) + cos(theta2)*cos(theta3),                         -sin(theta2)*cos(theta3) - sin(theta3)*cos(theta2),            0,                                                 l1 + l3*cos(theta2) + l4*(-sin(theta2)*sin(theta3) + cos(theta2)*cos(theta3))],\n",
       "[sin(theta2)*cos(theta1)*cos(theta3) + sin(theta3)*cos(theta1)*cos(theta2), -sin(theta2)*sin(theta3)*cos(theta1) + cos(theta1)*cos(theta2)*cos(theta3), -sin(theta1), -l2*sin(theta1) + l3*sin(theta2)*cos(theta1) + l4*(sin(theta2)*cos(theta1)*cos(theta3) + sin(theta3)*cos(theta1)*cos(theta2))],\n",
       "[sin(theta1)*sin(theta2)*cos(theta3) + sin(theta1)*sin(theta3)*cos(theta2), -sin(theta1)*sin(theta2)*sin(theta3) + sin(theta1)*cos(theta2)*cos(theta3),  cos(theta1),  l2*cos(theta1) + l3*sin(theta1)*sin(theta2) + l4*(sin(theta1)*sin(theta2)*cos(theta3) + sin(theta1)*sin(theta3)*cos(theta2))],\n",
       "[                                                                        0,                                                                          0,            0,                                                                                                                             1]])"
      ]
     },
     "execution_count": 10,
     "metadata": {},
     "output_type": "execute_result"
    }
   ],
   "source": [
    "T04 = T01*T12*T23*T34\n",
    "T04"
   ]
  },
  {
   "cell_type": "code",
   "execution_count": 11,
   "id": "d1120cad",
   "metadata": {},
   "outputs": [
    {
     "data": {
      "text/latex": [
       "$\\displaystyle \\left[\\begin{matrix}l_{1} + l_{3} \\cos{\\left(\\theta_{2} \\right)} + l_{4} \\left(- \\sin{\\left(\\theta_{2} \\right)} \\sin{\\left(\\theta_{3} \\right)} + \\cos{\\left(\\theta_{2} \\right)} \\cos{\\left(\\theta_{3} \\right)}\\right)\\\\- l_{2} \\sin{\\left(\\theta_{1} \\right)} + l_{3} \\sin{\\left(\\theta_{2} \\right)} \\cos{\\left(\\theta_{1} \\right)} + l_{4} \\left(\\sin{\\left(\\theta_{2} \\right)} \\cos{\\left(\\theta_{1} \\right)} \\cos{\\left(\\theta_{3} \\right)} + \\sin{\\left(\\theta_{3} \\right)} \\cos{\\left(\\theta_{1} \\right)} \\cos{\\left(\\theta_{2} \\right)}\\right)\\\\l_{2} \\cos{\\left(\\theta_{1} \\right)} + l_{3} \\sin{\\left(\\theta_{1} \\right)} \\sin{\\left(\\theta_{2} \\right)} + l_{4} \\left(\\sin{\\left(\\theta_{1} \\right)} \\sin{\\left(\\theta_{2} \\right)} \\cos{\\left(\\theta_{3} \\right)} + \\sin{\\left(\\theta_{1} \\right)} \\sin{\\left(\\theta_{3} \\right)} \\cos{\\left(\\theta_{2} \\right)}\\right)\\end{matrix}\\right]$"
      ],
      "text/plain": [
       "Matrix([\n",
       "[                                                l1 + l3*cos(theta2) + l4*(-sin(theta2)*sin(theta3) + cos(theta2)*cos(theta3))],\n",
       "[-l2*sin(theta1) + l3*sin(theta2)*cos(theta1) + l4*(sin(theta2)*cos(theta1)*cos(theta3) + sin(theta3)*cos(theta1)*cos(theta2))],\n",
       "[ l2*cos(theta1) + l3*sin(theta1)*sin(theta2) + l4*(sin(theta1)*sin(theta2)*cos(theta3) + sin(theta1)*sin(theta3)*cos(theta2))]])"
      ]
     },
     "execution_count": 11,
     "metadata": {},
     "output_type": "execute_result"
    }
   ],
   "source": [
    "funcs = T04[0:3,3]\n",
    "funcs"
   ]
  },
  {
   "cell_type": "code",
   "execution_count": 12,
   "id": "da6a31b4",
   "metadata": {},
   "outputs": [],
   "source": [
    "args= sym.symbols('theta1 theta2 theta3')"
   ]
  },
  {
   "cell_type": "code",
   "execution_count": 13,
   "id": "c7b34482",
   "metadata": {},
   "outputs": [
    {
     "data": {
      "text/latex": [
       "$\\displaystyle \\left[\\begin{matrix}0 & - l_{3} \\sin{\\left(\\theta_{2} \\right)} + l_{4} \\left(- \\sin{\\left(\\theta_{2} \\right)} \\cos{\\left(\\theta_{3} \\right)} - \\sin{\\left(\\theta_{3} \\right)} \\cos{\\left(\\theta_{2} \\right)}\\right) & l_{4} \\left(- \\sin{\\left(\\theta_{2} \\right)} \\cos{\\left(\\theta_{3} \\right)} - \\sin{\\left(\\theta_{3} \\right)} \\cos{\\left(\\theta_{2} \\right)}\\right)\\\\- l_{2} \\cos{\\left(\\theta_{1} \\right)} - l_{3} \\sin{\\left(\\theta_{1} \\right)} \\sin{\\left(\\theta_{2} \\right)} + l_{4} \\left(- \\sin{\\left(\\theta_{1} \\right)} \\sin{\\left(\\theta_{2} \\right)} \\cos{\\left(\\theta_{3} \\right)} - \\sin{\\left(\\theta_{1} \\right)} \\sin{\\left(\\theta_{3} \\right)} \\cos{\\left(\\theta_{2} \\right)}\\right) & l_{3} \\cos{\\left(\\theta_{1} \\right)} \\cos{\\left(\\theta_{2} \\right)} + l_{4} \\left(- \\sin{\\left(\\theta_{2} \\right)} \\sin{\\left(\\theta_{3} \\right)} \\cos{\\left(\\theta_{1} \\right)} + \\cos{\\left(\\theta_{1} \\right)} \\cos{\\left(\\theta_{2} \\right)} \\cos{\\left(\\theta_{3} \\right)}\\right) & l_{4} \\left(- \\sin{\\left(\\theta_{2} \\right)} \\sin{\\left(\\theta_{3} \\right)} \\cos{\\left(\\theta_{1} \\right)} + \\cos{\\left(\\theta_{1} \\right)} \\cos{\\left(\\theta_{2} \\right)} \\cos{\\left(\\theta_{3} \\right)}\\right)\\\\- l_{2} \\sin{\\left(\\theta_{1} \\right)} + l_{3} \\sin{\\left(\\theta_{2} \\right)} \\cos{\\left(\\theta_{1} \\right)} + l_{4} \\left(\\sin{\\left(\\theta_{2} \\right)} \\cos{\\left(\\theta_{1} \\right)} \\cos{\\left(\\theta_{3} \\right)} + \\sin{\\left(\\theta_{3} \\right)} \\cos{\\left(\\theta_{1} \\right)} \\cos{\\left(\\theta_{2} \\right)}\\right) & l_{3} \\sin{\\left(\\theta_{1} \\right)} \\cos{\\left(\\theta_{2} \\right)} + l_{4} \\left(- \\sin{\\left(\\theta_{1} \\right)} \\sin{\\left(\\theta_{2} \\right)} \\sin{\\left(\\theta_{3} \\right)} + \\sin{\\left(\\theta_{1} \\right)} \\cos{\\left(\\theta_{2} \\right)} \\cos{\\left(\\theta_{3} \\right)}\\right) & l_{4} \\left(- \\sin{\\left(\\theta_{1} \\right)} \\sin{\\left(\\theta_{2} \\right)} \\sin{\\left(\\theta_{3} \\right)} + \\sin{\\left(\\theta_{1} \\right)} \\cos{\\left(\\theta_{2} \\right)} \\cos{\\left(\\theta_{3} \\right)}\\right)\\end{matrix}\\right]$"
      ],
      "text/plain": [
       "Matrix([\n",
       "[                                                                                                                             0,                                    -l3*sin(theta2) + l4*(-sin(theta2)*cos(theta3) - sin(theta3)*cos(theta2)),                         l4*(-sin(theta2)*cos(theta3) - sin(theta3)*cos(theta2))],\n",
       "[-l2*cos(theta1) - l3*sin(theta1)*sin(theta2) + l4*(-sin(theta1)*sin(theta2)*cos(theta3) - sin(theta1)*sin(theta3)*cos(theta2)), l3*cos(theta1)*cos(theta2) + l4*(-sin(theta2)*sin(theta3)*cos(theta1) + cos(theta1)*cos(theta2)*cos(theta3)), l4*(-sin(theta2)*sin(theta3)*cos(theta1) + cos(theta1)*cos(theta2)*cos(theta3))],\n",
       "[ -l2*sin(theta1) + l3*sin(theta2)*cos(theta1) + l4*(sin(theta2)*cos(theta1)*cos(theta3) + sin(theta3)*cos(theta1)*cos(theta2)), l3*sin(theta1)*cos(theta2) + l4*(-sin(theta1)*sin(theta2)*sin(theta3) + sin(theta1)*cos(theta2)*cos(theta3)), l4*(-sin(theta1)*sin(theta2)*sin(theta3) + sin(theta1)*cos(theta2)*cos(theta3))]])"
      ]
     },
     "execution_count": 13,
     "metadata": {},
     "output_type": "execute_result"
    }
   ],
   "source": [
    "funcs.jacobian(args)"
   ]
  },
  {
   "cell_type": "code",
   "execution_count": 14,
   "id": "b6a2eb7b",
   "metadata": {},
   "outputs": [
    {
     "data": {
      "text/latex": [
       "$\\displaystyle \\left[\\begin{matrix}- \\sin{\\left(\\theta_{2} \\right)} \\sin{\\left(\\theta_{3} \\right)} + \\cos{\\left(\\theta_{2} \\right)} \\cos{\\left(\\theta_{3} \\right)} & - \\sin{\\left(\\theta_{2} \\right)} \\cos{\\left(\\theta_{3} \\right)} - \\sin{\\left(\\theta_{3} \\right)} \\cos{\\left(\\theta_{2} \\right)} & 0 & l_{1} + l_{3} \\cos{\\left(\\theta_{2} \\right)} + l_{4} \\left(- \\sin{\\left(\\theta_{2} \\right)} \\sin{\\left(\\theta_{3} \\right)} + \\cos{\\left(\\theta_{2} \\right)} \\cos{\\left(\\theta_{3} \\right)}\\right)\\\\\\sin{\\left(\\theta_{2} \\right)} \\cos{\\left(\\theta_{1} \\right)} \\cos{\\left(\\theta_{3} \\right)} + \\sin{\\left(\\theta_{3} \\right)} \\cos{\\left(\\theta_{1} \\right)} \\cos{\\left(\\theta_{2} \\right)} & - \\sin{\\left(\\theta_{2} \\right)} \\sin{\\left(\\theta_{3} \\right)} \\cos{\\left(\\theta_{1} \\right)} + \\cos{\\left(\\theta_{1} \\right)} \\cos{\\left(\\theta_{2} \\right)} \\cos{\\left(\\theta_{3} \\right)} & - \\sin{\\left(\\theta_{1} \\right)} & - l_{2} \\sin{\\left(\\theta_{1} \\right)} + l_{3} \\sin{\\left(\\theta_{2} \\right)} \\cos{\\left(\\theta_{1} \\right)} + l_{4} \\left(\\sin{\\left(\\theta_{2} \\right)} \\cos{\\left(\\theta_{1} \\right)} \\cos{\\left(\\theta_{3} \\right)} + \\sin{\\left(\\theta_{3} \\right)} \\cos{\\left(\\theta_{1} \\right)} \\cos{\\left(\\theta_{2} \\right)}\\right)\\\\\\sin{\\left(\\theta_{1} \\right)} \\sin{\\left(\\theta_{2} \\right)} \\cos{\\left(\\theta_{3} \\right)} + \\sin{\\left(\\theta_{1} \\right)} \\sin{\\left(\\theta_{3} \\right)} \\cos{\\left(\\theta_{2} \\right)} & - \\sin{\\left(\\theta_{1} \\right)} \\sin{\\left(\\theta_{2} \\right)} \\sin{\\left(\\theta_{3} \\right)} + \\sin{\\left(\\theta_{1} \\right)} \\cos{\\left(\\theta_{2} \\right)} \\cos{\\left(\\theta_{3} \\right)} & \\cos{\\left(\\theta_{1} \\right)} & l_{2} \\cos{\\left(\\theta_{1} \\right)} + l_{3} \\sin{\\left(\\theta_{1} \\right)} \\sin{\\left(\\theta_{2} \\right)} + l_{4} \\left(\\sin{\\left(\\theta_{1} \\right)} \\sin{\\left(\\theta_{2} \\right)} \\cos{\\left(\\theta_{3} \\right)} + \\sin{\\left(\\theta_{1} \\right)} \\sin{\\left(\\theta_{3} \\right)} \\cos{\\left(\\theta_{2} \\right)}\\right)\\\\0 & 0 & 0 & 1\\end{matrix}\\right]$"
      ],
      "text/plain": [
       "Matrix([\n",
       "[                       -sin(theta2)*sin(theta3) + cos(theta2)*cos(theta3),                         -sin(theta2)*cos(theta3) - sin(theta3)*cos(theta2),            0,                                                 l1 + l3*cos(theta2) + l4*(-sin(theta2)*sin(theta3) + cos(theta2)*cos(theta3))],\n",
       "[sin(theta2)*cos(theta1)*cos(theta3) + sin(theta3)*cos(theta1)*cos(theta2), -sin(theta2)*sin(theta3)*cos(theta1) + cos(theta1)*cos(theta2)*cos(theta3), -sin(theta1), -l2*sin(theta1) + l3*sin(theta2)*cos(theta1) + l4*(sin(theta2)*cos(theta1)*cos(theta3) + sin(theta3)*cos(theta1)*cos(theta2))],\n",
       "[sin(theta1)*sin(theta2)*cos(theta3) + sin(theta1)*sin(theta3)*cos(theta2), -sin(theta1)*sin(theta2)*sin(theta3) + sin(theta1)*cos(theta2)*cos(theta3),  cos(theta1),  l2*cos(theta1) + l3*sin(theta1)*sin(theta2) + l4*(sin(theta1)*sin(theta2)*cos(theta3) + sin(theta1)*sin(theta3)*cos(theta2))],\n",
       "[                                                                        0,                                                                          0,            0,                                                                                                                             1]])"
      ]
     },
     "execution_count": 14,
     "metadata": {},
     "output_type": "execute_result"
    }
   ],
   "source": []
  },
  {
   "cell_type": "code",
   "execution_count": 15,
   "id": "18cb5b79",
   "metadata": {},
   "outputs": [
    {
     "data": {
      "text/latex": [
       "$\\displaystyle \\left[\\begin{matrix}l_{4} \\left(- \\sin{\\left(\\theta_{2} \\right)} \\sin{\\left(\\theta_{3} \\right)} + \\cos{\\left(\\theta_{2} \\right)} \\cos{\\left(\\theta_{3} \\right)}\\right) + 30.0 \\cos{\\left(\\theta_{2} \\right)} + 100.0\\\\l_{4} \\left(\\sin{\\left(\\theta_{2} \\right)} \\cos{\\left(\\theta_{1} \\right)} \\cos{\\left(\\theta_{3} \\right)} + \\sin{\\left(\\theta_{3} \\right)} \\cos{\\left(\\theta_{1} \\right)} \\cos{\\left(\\theta_{2} \\right)}\\right) - 50.0 \\sin{\\left(\\theta_{1} \\right)} + 30.0 \\sin{\\left(\\theta_{2} \\right)} \\cos{\\left(\\theta_{1} \\right)}\\\\l_{4} \\left(\\sin{\\left(\\theta_{1} \\right)} \\sin{\\left(\\theta_{2} \\right)} \\cos{\\left(\\theta_{3} \\right)} + \\sin{\\left(\\theta_{1} \\right)} \\sin{\\left(\\theta_{3} \\right)} \\cos{\\left(\\theta_{2} \\right)}\\right) + 30.0 \\sin{\\left(\\theta_{1} \\right)} \\sin{\\left(\\theta_{2} \\right)} + 50.0 \\cos{\\left(\\theta_{1} \\right)}\\end{matrix}\\right]$"
      ],
      "text/plain": [
       "Matrix([\n",
       "[                                              l4*(-sin(theta2)*sin(theta3) + cos(theta2)*cos(theta3)) + 30.0*cos(theta2) + 100.0],\n",
       "[l4*(sin(theta2)*cos(theta1)*cos(theta3) + sin(theta3)*cos(theta1)*cos(theta2)) - 50.0*sin(theta1) + 30.0*sin(theta2)*cos(theta1)],\n",
       "[l4*(sin(theta1)*sin(theta2)*cos(theta3) + sin(theta1)*sin(theta3)*cos(theta2)) + 30.0*sin(theta1)*sin(theta2) + 50.0*cos(theta1)]])"
      ]
     },
     "execution_count": 15,
     "metadata": {},
     "output_type": "execute_result"
    }
   ],
   "source": [
    "funcs.evalf(subs={'l1':100,'l2':50,'l3':30})"
   ]
  },
  {
   "cell_type": "code",
   "execution_count": null,
   "id": "5cf482cb",
   "metadata": {},
   "outputs": [],
   "source": []
  }
 ],
 "metadata": {
  "kernelspec": {
   "display_name": "Python 3 (ipykernel)",
   "language": "python",
   "name": "python3"
  },
  "language_info": {
   "codemirror_mode": {
    "name": "ipython",
    "version": 3
   },
   "file_extension": ".py",
   "mimetype": "text/x-python",
   "name": "python",
   "nbconvert_exporter": "python",
   "pygments_lexer": "ipython3",
   "version": "3.8.13"
  }
 },
 "nbformat": 4,
 "nbformat_minor": 5
}
